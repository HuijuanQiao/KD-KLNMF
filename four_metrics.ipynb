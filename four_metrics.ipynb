{
 "cells": [
  {
   "cell_type": "code",
   "execution_count": 1,
   "metadata": {},
   "outputs": [
    {
     "name": "stdout",
     "output_type": "stream",
     "text": [
      "(644, 220)\n"
     ]
    }
   ],
   "source": [
    "import numpy as np\n",
    "f1 = open(\".csv\",\"rb\")\n",
    "features_selected =np.loadtxt(f1,delimiter=',',skiprows=0)\n",
    "f1.close()\n",
    "features_selected = np.array(features_selected)\n",
    "#features = np.column_stack((k_mer,theta_list,DSA,ADPM)) \n",
    "print(features_selected.shape)"
   ]
  },
  {
   "cell_type": "code",
   "execution_count": 2,
   "metadata": {},
   "outputs": [
    {
     "name": "stdout",
     "output_type": "stream",
     "text": [
      "(644,)\n"
     ]
    }
   ],
   "source": [
    "# Read labels\n",
    "target= np.load(\"target.npy\")\n",
    "print(target.shape)"
   ]
  },
  {
   "cell_type": "code",
   "execution_count": 3,
   "metadata": {},
   "outputs": [
    {
     "name": "stdout",
     "output_type": "stream",
     "text": [
      "(1668, 220)\n",
      "(1668,)\n"
     ]
    }
   ],
   "source": [
    "#处理不平衡数据集\n",
    "from imblearn.over_sampling import SMOTE\n",
    "X_resampled_smote, y_resampled_smote = SMOTE(random_state = 42).fit_sample(features_selected, target)\n",
    "features_selected = X_resampled_smote\n",
    "target = y_resampled_smote\n",
    "print(features_selected.shape)\n",
    "print(target.shape)"
   ]
  },
  {
   "cell_type": "code",
   "execution_count": 4,
   "metadata": {},
   "outputs": [],
   "source": [
    "from sklearn.preprocessing import MinMaxScaler\n"
   ]
  },
  {
   "cell_type": "code",
   "execution_count": 5,
   "metadata": {},
   "outputs": [],
   "source": [
    "from sklearn.svm import SVC\n",
    "from sklearn.model_selection import cross_val_score\n",
    "from sklearn.pipeline import Pipeline\n",
    "\n",
    "from sklearn.model_selection import LeaveOneOut\n",
    "from sklearn.model_selection import GridSearchCV\n",
    "from sklearn.naive_bayes import GaussianNB\n",
    "from sklearn.tree import DecisionTreeClassifier\n",
    "from sklearn.neighbors import KNeighborsClassifier\n",
    "from sklearn.ensemble import RandomForestClassifier\n",
    "from sklearn.ensemble import BaggingClassifier\n",
    "from sklearn.ensemble import AdaBoostClassifier\n",
    "#pipe = Pipeline([(\"scaler\", MinMaxScaler()), \n",
    "#                 (\"svm\",SVC(C=2, gamma=0.5, decision_function_shape=\"ovo\",kernel=\"rbf\",random_state = 21,probability=True))])\n",
    "\n",
    "\n",
    "gnb=GaussianNB()\n",
    "dt = DecisionTreeClassifier(random_state=21)\n",
    "knn=KNeighborsClassifier(n_neighbors=1,leaf_size=1)\n",
    "rf=RandomForestClassifier(n_estimators=145,random_state=28,max_features='auto')\n",
    "bagging = BaggingClassifier(n_estimators=195,random_state = 21)\n",
    "adaboost = AdaBoostClassifier (n_estimators=195)\n",
    "\n",
    "pipe = Pipeline([(\"scaler\", MinMaxScaler()), \n",
    "                 (\"adaboost\",AdaBoostClassifier (n_estimators=195))])\n",
    "loo = LeaveOneOut()"
   ]
  },
  {
   "cell_type": "code",
   "execution_count": 6,
   "metadata": {},
   "outputs": [],
   "source": [
    "import numpy as np\n",
    "from sklearn.metrics import make_scorer\n",
    "from sklearn.model_selection import cross_val_score\n",
    "\n",
    "# Calculate the confusion matrix\n",
    "confusion_matrix_myself = np.zeros((4,4))\n",
    "\n",
    "def coufusion_matrix_function(y_true, y_pred):\n",
    "    for num in range(len(y_true)):\n",
    "        i = y_true[num]\n",
    "        j = y_pred[num]\n",
    "        confusion_matrix_myself[i][j] += 1\n",
    "    return 1\n",
    "confusion_matrix_score = make_scorer(coufusion_matrix_function, greater_is_better=True)\n",
    "\n",
    "confusion_matrix_scores = cross_val_score(pipe, features_selected, target, \n",
    "                                  cv = loo, scoring = confusion_matrix_score)  "
   ]
  },
  {
   "cell_type": "code",
   "execution_count": 7,
   "metadata": {},
   "outputs": [
    {
     "name": "stdout",
     "output_type": "stream",
     "text": [
      "[[278. 121.  17.   1.]\n",
      " [151. 237.  16.  13.]\n",
      " [ 20.  26. 371.   0.]\n",
      " [ 10.  64.   4. 339.]]\n"
     ]
    }
   ],
   "source": [
    "print(confusion_matrix_myself)"
   ]
  },
  {
   "cell_type": "code",
   "execution_count": 8,
   "metadata": {},
   "outputs": [],
   "source": [
    "# Calculate the metric: sensitivity\n",
    "def sensitivity_myself(confusion_matrix, i):\n",
    "    N_plus_minus_i = sum(confusion_matrix[i]) - confusion_matrix[i,i]\n",
    "    N_plus_i = sum(confusion_matrix[i])\n",
    "    Sn_i = 1 - float(N_plus_minus_i)/N_plus_i\n",
    "    return Sn_i"
   ]
  },
  {
   "cell_type": "code",
   "execution_count": 9,
   "metadata": {},
   "outputs": [],
   "source": [
    "# Calculate the metric: specificity\n",
    "def specificity_myself(confusion_matrix, i):\n",
    "    matrix_sum = sum(sum(j) for j in confusion_matrix)\n",
    "    N_minus_plus_i = sum(confusion_matrix[:,i])-confusion_matrix[i,i]\n",
    "    N_minus_i = matrix_sum - sum(confusion_matrix[i])\n",
    "    Sp_i = 1 - float(N_minus_plus_i)/N_minus_i\n",
    "    return Sp_i"
   ]
  },
  {
   "cell_type": "code",
   "execution_count": 10,
   "metadata": {},
   "outputs": [
    {
     "name": "stdout",
     "output_type": "stream",
     "text": [
      "0.6666666666666667\n",
      "0.5683453237410072\n",
      "0.8896882494004796\n",
      "0.8129496402877698\n"
     ]
    }
   ],
   "source": [
    "# Calculate the Sn(i)\n",
    "for i in range(4):\n",
    "    print(sensitivity_myself(confusion_matrix_myself, i))"
   ]
  },
  {
   "cell_type": "code",
   "execution_count": 11,
   "metadata": {},
   "outputs": [
    {
     "name": "stdout",
     "output_type": "stream",
     "text": [
      "0.8553157474020783\n",
      "0.8313349320543565\n",
      "0.9704236610711431\n",
      "0.9888089528377298\n"
     ]
    }
   ],
   "source": [
    "# Calculate the Sp(i)\n",
    "for i in range(4):\n",
    "    print(specificity_myself(confusion_matrix_myself, i))"
   ]
  },
  {
   "cell_type": "code",
   "execution_count": 12,
   "metadata": {},
   "outputs": [],
   "source": [
    "# Calculate the metric: Matthew's correlation coefficient\n",
    "import math\n",
    "def mcc_myself(confusion_matrix, i):\n",
    "    matrix_sum = sum(sum(j) for j in confusion_matrix)\n",
    "    N_plus_minus_i = sum(confusion_matrix[i]) - confusion_matrix[i,i]\n",
    "    N_plus_i = sum(confusion_matrix[i])\n",
    "    N_minus_plus_i = sum(confusion_matrix[:,i])-confusion_matrix[i,i]\n",
    "    N_minus_i = matrix_sum - sum(confusion_matrix[i])\n",
    "    part_1 =float(N_plus_minus_i)/N_plus_i + float(N_minus_plus_i)/N_minus_i\n",
    "    part_2 =1+float(N_minus_plus_i-N_plus_minus_i)/N_plus_i\n",
    "    part_3 =1+float(N_plus_minus_i-N_minus_plus_i)/N_minus_i\n",
    "    mcc_i = float(1 - part_1)/math.sqrt(part_2*part_3)\n",
    "    return mcc_i"
   ]
  },
  {
   "cell_type": "code",
   "execution_count": 13,
   "metadata": {},
   "outputs": [
    {
     "name": "stdout",
     "output_type": "stream",
     "text": [
      "0.5060961816755475\n",
      "0.3904725014581743\n",
      "0.8664356032806034\n",
      "0.8499435383754407\n"
     ]
    }
   ],
   "source": [
    "# Calculate the MCC(i)\n",
    "for i in range(4):\n",
    "    print(mcc_myself(confusion_matrix_myself, i))"
   ]
  },
  {
   "cell_type": "code",
   "execution_count": 14,
   "metadata": {},
   "outputs": [],
   "source": [
    "# Calculate the metric: overall accuracy\n",
    "def accuracy_myself(confusion_matrix):\n",
    "    num_i = 0\n",
    "    for i in range(4):\n",
    "        N_plus_i = sum(confusion_matrix[i])\n",
    "        N_plus_minus_i = sum(confusion_matrix[i]) - confusion_matrix[i,i]\n",
    "        num_i += N_plus_i - N_plus_minus_i\n",
    "    return float(num_i)/1668"
   ]
  },
  {
   "cell_type": "code",
   "execution_count": 15,
   "metadata": {},
   "outputs": [
    {
     "name": "stdout",
     "output_type": "stream",
     "text": [
      "0.7344124700239808\n"
     ]
    }
   ],
   "source": [
    "# Calculate the OA\n",
    "print(accuracy_myself(confusion_matrix_myself))"
   ]
  },
  {
   "cell_type": "code",
   "execution_count": null,
   "metadata": {},
   "outputs": [],
   "source": []
  }
 ],
 "metadata": {
  "kernelspec": {
   "display_name": "Python 3",
   "language": "python",
   "name": "python3"
  },
  "language_info": {
   "codemirror_mode": {
    "name": "ipython",
    "version": 3
   },
   "file_extension": ".py",
   "mimetype": "text/x-python",
   "name": "python",
   "nbconvert_exporter": "python",
   "pygments_lexer": "ipython3",
   "version": "3.7.0"
  }
 },
 "nbformat": 4,
 "nbformat_minor": 2
}
