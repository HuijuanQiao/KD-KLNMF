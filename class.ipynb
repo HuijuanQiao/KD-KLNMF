{
 "cells": [
  {
   "cell_type": "code",
   "execution_count": 1,
   "metadata": {},
   "outputs": [
    {
     "name": "stdout",
     "output_type": "stream",
     "text": [
      "(1484, 1024)\n"
     ]
    }
   ],
   "source": [
    "import numpy as np\n",
    "f1 = open(\".csv\",\"rb\")\n",
    "features =np.loadtxt(f1,delimiter=',',skiprows=0)\n",
    "f1.close()\n",
    "features_selected= np.array(features)\n",
    "#features_selected= np.column_stack((k_mer,DSA)) \n",
    "print(features_selected.shape)"
   ]
  },
  {
   "cell_type": "code",
   "execution_count": 2,
   "metadata": {},
   "outputs": [
    {
     "name": "stdout",
     "output_type": "stream",
     "text": [
      "(1484,)\n"
     ]
    }
   ],
   "source": [
    "# Read labels\n",
    "target= np.load(\"/target.npy\")\n",
    "print(target.shape)"
   ]
  },
  {
   "cell_type": "markdown",
   "metadata": {},
   "source": [
    "from imblearn.over_sampling import SMOTE\n",
    "X_resampled_smote, y_resampled_smote = SMOTE(random_state=42).fit_sample(features_selected, target)\n",
    "features_selected = X_resampled_smote\n",
    "target = y_resampled_smote\n",
    "print(features_selected.shape)\n",
    "print(target.shape)"
   ]
  },
  {
   "cell_type": "code",
   "execution_count": 3,
   "metadata": {},
   "outputs": [],
   "source": [
    "import matplotlib.pyplot as plt\n",
    "from sklearn.model_selection import train_test_split\n",
    "from sklearn.model_selection import cross_val_score\n",
    "from sklearn.model_selection import KFold\n",
    "from sklearn.model_selection import GridSearchCV"
   ]
  },
  {
   "cell_type": "markdown",
   "metadata": {},
   "source": [
    "data = features_selected\n",
    "y = target\n",
    "#params={'gamma':np.logspace(-15,5,base=2),'C':np.logspace(-5,15,base=2)}\n",
    "X_train,X_test,y_train,y_test=train_test_split(data,y,random_state=42)\n"
   ]
  },
  {
   "cell_type": "markdown",
   "metadata": {},
   "source": [
    "#SVM\n",
    "svc=SVC(kernel='rbf')\n",
    "grid_search=GridSearchCV(svc,params,cv=5,n_jobs=-1)\n",
    "grid_search.fit(X_train,y_train)\n",
    "print('模型最优参数：{}'.format(grid_search.best_params_))\n",
    "print('训练集最高分：{:.4f}'.format(grid_search.best_score_))\n",
    "print('测试集最高分：{:.4f}'.format(grid_search.score(X_test,y_test)))"
   ]
  },
  {
   "cell_type": "code",
   "execution_count": 4,
   "metadata": {
    "scrolled": false
   },
   "outputs": [
    {
     "name": "stdout",
     "output_type": "stream",
     "text": [
      "{'svm__C': 1, 'svm__gamma': 0.0625}\n",
      "0.6495918737529476\n"
     ]
    }
   ],
   "source": [
    "from sklearn.svm import SVC\n",
    "from sklearn.model_selection import GridSearchCV\n",
    "from sklearn.preprocessing import MinMaxScaler\n",
    "from sklearn.pipeline import Pipeline\n",
    "\n",
    "pipe = Pipeline([(\"scaler\", MinMaxScaler()), \n",
    "                 (\"svm\",SVC(decision_function_shape=\"ovo\",kernel=\"rbf\",probability = True,random_state = 21))])\n",
    "\n",
    "param_grid = {\"svm__C\":[pow(2, k) for k in range(-5, 15)],\n",
    "             \"svm__gamma\":[pow(2, k) for k in range(-15, 5)]}\n",
    "\n",
    "# When we select 11220 features, the maximum overall accuracy can reach 88.82%\n",
    "grid_search = GridSearchCV(pipe, param_grid, cv=10,n_jobs = -1)\n",
    "grid_search.fit(features,target)\n",
    "# The best values for parameters C and gamma.\n",
    "print(grid_search.best_params_)\n",
    "print(grid_search.best_score_)"
   ]
  },
  {
   "cell_type": "code",
   "execution_count": 27,
   "metadata": {},
   "outputs": [],
   "source": [
    "import numpy as np\n",
    "import matplotlib.pyplot as plt\n",
    "from sklearn.svm import SVC\n",
    "from sklearn.model_selection import train_test_split\n",
    "from sklearn.ensemble import RandomForestClassifier\n",
    "from sklearn.model_selection import cross_val_score\n",
    "from sklearn.model_selection import KFold\n",
    "from sklearn.model_selection import GridSearchCV"
   ]
  },
  {
   "cell_type": "code",
   "execution_count": 28,
   "metadata": {},
   "outputs": [
    {
     "name": "stdout",
     "output_type": "stream",
     "text": [
      "得分： 0.5883\n"
     ]
    }
   ],
   "source": [
    "#高斯朴素贝叶斯\n",
    "from sklearn.naive_bayes import GaussianNB\n",
    "gnb=GaussianNB()\n",
    "#gnb.fit(X_train,y_train)\n",
    "#print('训练集最高分：{:.4f}'.format(gnb.score(X_train,y_train)))\n",
    "#print('测试集最高分：{:.4f}'.format(gnb.score(X_test,y_test)))\n",
    "print('得分： {:.4f}'.format(np.mean(cross_val_score(gnb, features, target, cv=10,n_jobs=-1))))"
   ]
  },
  {
   "cell_type": "code",
   "execution_count": 29,
   "metadata": {},
   "outputs": [
    {
     "name": "stdout",
     "output_type": "stream",
     "text": [
      "最高得分： 0.5431\n"
     ]
    }
   ],
   "source": [
    "#DecisionTree\n",
    "from sklearn.tree import DecisionTreeClassifier\n",
    "dt = DecisionTreeClassifier(random_state=21)\n",
    "print('最高得分： {:.4f}'.format(np.mean(cross_val_score(dt, features, target, cv=10,n_jobs=-1))))"
   ]
  },
  {
   "cell_type": "code",
   "execution_count": 30,
   "metadata": {},
   "outputs": [
    {
     "name": "stdout",
     "output_type": "stream",
     "text": [
      "{'leaf_size': 1, 'n_neighbors': 96}\n",
      "0.6138445492472338\n"
     ]
    }
   ],
   "source": [
    "#KNN\n",
    "from sklearn.neighbors import KNeighborsClassifier\n",
    "params={'n_neighbors':list(range(1,100,5)),'leaf_size':list(range(1,100,5))}\n",
    "knn=KNeighborsClassifier()\n",
    "grid_search=GridSearchCV(knn,params,cv=10,n_jobs=-1)\n",
    "#grid_search.fit(X_train,y_train)\n",
    "#print('模型最优参数：{}'.format(grid_search.best_params_))\n",
    "#print('训练集最高分：{:.4f}'.format(grid_search.best_score_))\n",
    "#print('测试集最高分：{:.4f}'.format(grid_search.score(X_test,y_test)))\n",
    "grid_search.fit(features, target)\n",
    "print(grid_search.best_params_)\n",
    "print(grid_search.best_score_)"
   ]
  },
  {
   "cell_type": "code",
   "execution_count": 31,
   "metadata": {},
   "outputs": [
    {
     "name": "stdout",
     "output_type": "stream",
     "text": [
      "{'n_estimators': 45}\n",
      "0.6051151822963904\n"
     ]
    }
   ],
   "source": [
    "#随机森林\n",
    "from sklearn.ensemble import RandomForestClassifier\n",
    "params={'n_estimators':[int(x) for x in np.arange(10,150,5)]}\n",
    "rf=RandomForestClassifier(random_state=28,max_features='auto')\n",
    "grid_search=GridSearchCV(rf,params,cv=10,n_jobs=-1)\n",
    "#grid_search.fit(X_train,y_train)\n",
    "#print('模型最优参数：{}'.format(grid_search.best_params_))\n",
    "#print('训练集最高分：{:.4f}'.format(grid_search.best_score_))\n",
    "#print('测试集最高分：{:.4f}'.format(grid_search.score(X_test,y_test)))\n",
    "grid_search.fit(features, target)\n",
    "print(grid_search.best_params_)\n",
    "print(grid_search.best_score_)"
   ]
  },
  {
   "cell_type": "code",
   "execution_count": 15,
   "metadata": {},
   "outputs": [
    {
     "name": "stdout",
     "output_type": "stream",
     "text": [
      "{'n_estimators': 130}\n",
      "0.7479536354536355\n"
     ]
    }
   ],
   "source": [
    "#Bagging\n",
    "from sklearn.ensemble import BaggingClassifier\n",
    "bagging = BaggingClassifier(random_state = 21)\n",
    "params={'n_estimators':[int(x) for x in np.arange(5,200,5)]}\n",
    "grid_search=GridSearchCV(bagging,params,cv=10,n_jobs=-1)\n",
    "#grid_search.fit(X_train,y_train)\n",
    "#print('模型最优参数：{}'.format(grid_search.best_params_))\n",
    "#print('训练集最高分：{:.4f}'.format(grid_search.best_score_))\n",
    "#print('测试集最高分：{:.4f}'.format(grid_search.score(X_test,y_test)))\n",
    "#print('得分： {:.4f}'.format(np.mean(cross_val_score(clf, features_selected, target, cv=5,n_jobs=-1))))\n",
    "grid_search.fit(features_selected, target)\n",
    "print(grid_search.best_params_)\n",
    "print(grid_search.best_score_)"
   ]
  },
  {
   "cell_type": "code",
   "execution_count": 16,
   "metadata": {},
   "outputs": [
    {
     "name": "stdout",
     "output_type": "stream",
     "text": [
      "{'n_estimators': 135}\n",
      "0.7455944580944581\n"
     ]
    }
   ],
   "source": [
    "#AdaBoostClassifier\n",
    "from sklearn.ensemble import AdaBoostClassifier\n",
    "adaboost = AdaBoostClassifier ()\n",
    "params={'n_estimators':[int(x) for x in np.arange(5,200,5)]}\n",
    "grid_search=GridSearchCV(adaboost,params,cv=10,n_jobs=-1)\n",
    "#grid_search.fit(X_train,y_train)\n",
    "#print('模型最优参数：{}'.format(grid_search.best_params_))\n",
    "#print('训练集最高分：{:.4f}'.format(grid_search.best_score_))\n",
    "#print('测试集最高分：{:.4f}'.format(grid_search.score(X_test,y_test)))\n",
    "grid_search.fit(features_selected, target)\n",
    "print(grid_search.best_params_)\n",
    "print(grid_search.best_score_)"
   ]
  },
  {
   "cell_type": "code",
   "execution_count": null,
   "metadata": {},
   "outputs": [],
   "source": []
  }
 ],
 "metadata": {
  "kernelspec": {
   "display_name": "Python 3",
   "language": "python",
   "name": "python3"
  },
  "language_info": {
   "codemirror_mode": {
    "name": "ipython",
    "version": 3
   },
   "file_extension": ".py",
   "mimetype": "text/x-python",
   "name": "python",
   "nbconvert_exporter": "python",
   "pygments_lexer": "ipython3",
   "version": "3.7.0"
  }
 },
 "nbformat": 4,
 "nbformat_minor": 2
}
