{
 "cells": [
  {
   "cell_type": "code",
   "execution_count": 1,
   "metadata": {},
   "outputs": [
    {
     "name": "stdout",
     "output_type": "stream",
     "text": [
      "(644, 220)\n"
     ]
    }
   ],
   "source": [
    "import numpy as np\n",
    "f1 = open(\"D:/qiaohuijuan/test/lncRNA subcellular localization/code/featuresselectiondata/4kmerDSA1575KLNMF220.csv\",\"rb\")\n",
    "features =np.loadtxt(f1,delimiter=',',skiprows=0)\n",
    "f1.close()\n",
    "features_selected= np.array(features)\n",
    "#features_selected= np.column_stack((k_mer,DSA)) \n",
    "print(features_selected.shape)"
   ]
  },
  {
   "cell_type": "code",
   "execution_count": 2,
   "metadata": {},
   "outputs": [
    {
     "name": "stdout",
     "output_type": "stream",
     "text": [
      "(644,)\n"
     ]
    }
   ],
   "source": [
    "# Read labels\n",
    "target= np.load(\"/target.npy\")\n",
    "print(target.shape)"
   ]
  },
  {
   "cell_type": "markdown",
   "metadata": {},
   "source": [
    "# PCA(copy=True, n_components=2, whiten=False)\n",
    "from sklearn.decomposition import PCA\n",
    "pca = PCA(n_components = 220)   #降到2维\n",
    "pca.fit(features_new)                  #训练\n",
    "features_selected=pca.fit_transform(features_selected)   #降维后的数据\n",
    "#print(pca.explained_variance_ratio_)  #输出贡献率\n",
    "print(features_selected.shape)          "
   ]
  },
  {
   "cell_type": "markdown",
   "metadata": {},
   "source": [
    "# Apply the ANOVA to obtain the optimal feature subset\n",
    "from sklearn.feature_selection import f_classif\n",
    "from sklearn.feature_selection import SelectKBest\n",
    "selector = SelectKBest(f_classif, k=220)\n",
    "selector.fit(features_new, target)\n",
    "features_selected = selector.transform(features_selected)\n",
    "print(features_selected.shape)"
   ]
  },
  {
   "cell_type": "code",
   "execution_count": 3,
   "metadata": {},
   "outputs": [
    {
     "name": "stdout",
     "output_type": "stream",
     "text": [
      "(1668, 220)\n",
      "(1668,)\n"
     ]
    }
   ],
   "source": [
    "#处理不平衡数据集\n",
    "from imblearn.over_sampling import SMOTE\n",
    "smo = SMOTE( random_state=42)\n",
    "X_resampled_smote, y_resampled_smote = smo.fit_sample(features_selected, target)\n",
    "features_selected = X_resampled_smote\n",
    "target = y_resampled_smote\n",
    "print(features_selected.shape)\n",
    "print(target.shape)"
   ]
  },
  {
   "cell_type": "code",
   "execution_count": null,
   "metadata": {},
   "outputs": [],
   "source": [
    "from sklearn.svm import SVC\n",
    "from sklearn.model_selection import GridSearchCV\n",
    "from sklearn.preprocessing import MinMaxScaler\n",
    "from sklearn.pipeline import Pipeline\n",
    "from sklearn.model_selection import LeaveOneOut\n",
    "loo = LeaveOneOut()\n",
    "pipe = Pipeline([(\"scaler\", MinMaxScaler()), \n",
    "                 (\"svm\",SVC(decision_function_shape=\"ovo\",kernel=\"rbf\",random_state=21))])\n",
    "\n",
    "param_grid = {\"svm__C\":[pow(2, k) for k in range(-5, 15)],\n",
    "             \"svm__gamma\":[pow(2, k) for k in range(-15, 5)]}\n",
    "\n",
    "grid_search = GridSearchCV(pipe, param_grid, cv = 5,n_jobs=-1)\n",
    "grid_search.fit(features_selected, target)\n",
    "print(features_selected.shape)\n",
    "# The best values for parameters C and gamma.\n",
    "print(grid_search.best_params_)\n",
    "print(grid_search.best_score_)"
   ]
  },
  {
   "cell_type": "code",
   "execution_count": null,
   "metadata": {},
   "outputs": [],
   "source": []
  },
  {
   "cell_type": "code",
   "execution_count": null,
   "metadata": {},
   "outputs": [],
   "source": []
  },
  {
   "cell_type": "code",
   "execution_count": null,
   "metadata": {},
   "outputs": [],
   "source": []
  }
 ],
 "metadata": {
  "kernelspec": {
   "display_name": "Python 3",
   "language": "python",
   "name": "python3"
  },
  "language_info": {
   "codemirror_mode": {
    "name": "ipython",
    "version": 3
   },
   "file_extension": ".py",
   "mimetype": "text/x-python",
   "name": "python",
   "nbconvert_exporter": "python",
   "pygments_lexer": "ipython3",
   "version": "3.7.0"
  }
 },
 "nbformat": 4,
 "nbformat_minor": 2
}
