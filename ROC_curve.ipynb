{
 "cells": [
  {
   "cell_type": "code",
   "execution_count": 1,
   "metadata": {},
   "outputs": [
    {
     "name": "stdout",
     "output_type": "stream",
     "text": [
      "(644, 220)\n"
     ]
    }
   ],
   "source": [
    "import numpy as np\n",
    "f1 = open(\".csv\",\"rb\")\n",
    "features_selected1 =np.loadtxt(f1,delimiter=',',skiprows=0)\n",
    "f1.close()\n",
    "features_selected1 = np.array(features_selected1)\n",
    "print(features_selected1.shape)"
   ]
  },
  {
   "cell_type": "code",
   "execution_count": 2,
   "metadata": {},
   "outputs": [
    {
     "name": "stdout",
     "output_type": "stream",
     "text": [
      "(644,)\n"
     ]
    }
   ],
   "source": [
    "# Read labels\n",
    "target1 = np.load(\"/target.npy\")\n",
    "print(target1.shape)"
   ]
  },
  {
   "cell_type": "code",
   "execution_count": 4,
   "metadata": {},
   "outputs": [
    {
     "name": "stdout",
     "output_type": "stream",
     "text": [
      "(1668, 220)\n",
      "(1668,)\n"
     ]
    }
   ],
   "source": [
    "from imblearn.over_sampling import SMOTE\n",
    "X_resampled_smote,y_resampled_smote = SMOTE(random_state = 42).fit_sample(features_selected1,target1)\n",
    "features_selected1 = X_resampled_smote\n",
    "target1 = y_resampled_smote\n",
    "print(features_selected1.shape)\n",
    "print(target1.shape)"
   ]
  },
  {
   "cell_type": "code",
   "execution_count": 5,
   "metadata": {},
   "outputs": [],
   "source": [
    "import numpy as np\n",
    "import matplotlib.pyplot as plt\n",
    "from itertools import cycle\n",
    "from sklearn.preprocessing import label_binarize\n",
    "from sklearn import svm, datasets\n",
    "from sklearn.metrics import roc_curve, auc\n",
    "from sklearn.model_selection import train_test_split\n",
    "from sklearn.preprocessing import label_binarize\n",
    "from sklearn.multiclass import OneVsRestClassifier\n",
    "from scipy import interp\n",
    "from sklearn.model_selection import LeaveOneOut\n",
    "from sklearn.pipeline import Pipeline\n",
    "from sklearn.svm import SVC\n",
    "from sklearn.preprocessing import MinMaxScaler"
   ]
  },
  {
   "cell_type": "code",
   "execution_count": 6,
   "metadata": {},
   "outputs": [],
   "source": [
    "# Binarize the output\n",
    "y1 = label_binarize(target1, classes=[0, 1, 2, 3])\n",
    "n_classes = y1.shape[1]\n",
    "# X1 represets the features which are selected\n",
    "X1 = features_selected1\n",
    "\n",
    "pipe = Pipeline([(\"scaler\", MinMaxScaler()), \n",
    "                 (\"svm\",SVC(C=2, gamma=0.5, decision_function_shape=\"ovo\",kernel=\"rbf\",random_state = 21,probability=True))])"
   ]
  },
  {
   "cell_type": "code",
   "execution_count": 7,
   "metadata": {},
   "outputs": [],
   "source": [
    "# Learn to predict each class against the other\n",
    "classifier = OneVsRestClassifier(pipe)\n",
    "y_score1 = []\n",
    "loo = LeaveOneOut()\n",
    "for train, test in loo.split(X1,y1):\n",
    "    # Obtain the \"certainty score\" of a lncRNA sequence for each class\n",
    "    y_score1_i = classifier.fit(X1[train], y1[train]).decision_function(X1[test])\n",
    "    y_score1.append(y_score1_i.ravel().tolist())\n",
    "y_score1 = np.array(y_score1)"
   ]
  },
  {
   "cell_type": "code",
   "execution_count": 8,
   "metadata": {},
   "outputs": [],
   "source": [
    "# Compute ROC curve and ROC area for each class\n",
    "fpr1 = dict()\n",
    "tpr1 = dict()\n",
    "roc_auc1 = dict()\n",
    "for i in range(n_classes):\n",
    "    fpr1[i], tpr1[i], _ = roc_curve(y1[:, i], y_score1[:, i])\n",
    "    roc_auc1[i] = auc(fpr1[i], tpr1[i])"
   ]
  },
  {
   "cell_type": "code",
   "execution_count": 9,
   "metadata": {},
   "outputs": [],
   "source": [
    "# Compute micro-average ROC curve and ROC area\n",
    "fpr1[\"micro\"], tpr1[\"micro\"], _ = roc_curve(y1.ravel(), y_score1.ravel())\n",
    "roc_auc1[\"micro\"] = auc(fpr1[\"micro\"], tpr1[\"micro\"])"
   ]
  },
  {
   "cell_type": "code",
   "execution_count": 11,
   "metadata": {},
   "outputs": [
    {
     "name": "stdout",
     "output_type": "stream",
     "text": [
      "(178, 220)\n",
      "(178,)\n",
      "(336, 220)\n",
      "(336,)\n"
     ]
    }
   ],
   "source": [
    "import numpy as np\n",
    "f2 = open(\".csv\",\"rb\")\n",
    "features_selected2 =np.loadtxt(f2,delimiter=',',skiprows=0)\n",
    "f2.close()\n",
    "features_selected2 = np.array(features_selected2)\n",
    "print(features_selected2.shape)\n",
    "# Read labels\n",
    "target2= np.load(\"/target2.npy\")\n",
    "print(target2.shape)\n",
    "from imblearn.over_sampling import SMOTE\n",
    "X_resampled_smote,y_resampled_smote = SMOTE(random_state = 42).fit_sample(features_selected2,target2)\n",
    "features_selected2 = X_resampled_smote\n",
    "target2 = y_resampled_smote\n",
    "print(features_selected2.shape)\n",
    "print(target2.shape)"
   ]
  },
  {
   "cell_type": "code",
   "execution_count": 12,
   "metadata": {},
   "outputs": [],
   "source": [
    "# Binarize the output\n",
    "y2 = label_binarize(target2, classes=[0, 1, 2, 3])\n",
    "n_classes = y2.shape[1]\n",
    "# X2 represets the features which are selected\n",
    "X2 = features_selected2\n",
    "\n",
    "pipe = Pipeline([(\"scaler\", MinMaxScaler()), \n",
    "                 (\"svm\",SVC(C=2, gamma=0.25, decision_function_shape=\"ovo\",kernel=\"rbf\",random_state = 21,probability=True))])\n"
   ]
  },
  {
   "cell_type": "code",
   "execution_count": 13,
   "metadata": {},
   "outputs": [],
   "source": [
    "# Learn to predict each class against the other\n",
    "classifier = OneVsRestClassifier(pipe)\n",
    "y_score2 = []\n",
    "loo = LeaveOneOut()\n",
    "for train, test in loo.split(X2,y2):\n",
    "    # Obtain the \"certainty score\" of a lncRNA sequence for each class\n",
    "    y_score2_i = classifier.fit(X2[train], y2[train]).decision_function(X2[test])\n",
    "    y_score2.append(y_score2_i.ravel().tolist())\n",
    "y_score2 = np.array(y_score2)"
   ]
  },
  {
   "cell_type": "code",
   "execution_count": 14,
   "metadata": {},
   "outputs": [],
   "source": [
    "# Compute ROC curve and ROC area for each class\n",
    "fpr2 = dict()\n",
    "tpr2 = dict()\n",
    "roc_auc2 = dict()\n",
    "for i in range(n_classes):\n",
    "    fpr2[i], tpr2[i], _ = roc_curve(y2[:, i], y_score2[:, i])\n",
    "    roc_auc2[i] = auc(fpr2[i], tpr2[i])"
   ]
  },
  {
   "cell_type": "code",
   "execution_count": 15,
   "metadata": {},
   "outputs": [],
   "source": [
    "# Compute micro-average ROC curve and ROC area\n",
    "fpr2[\"micro\"], tpr2[\"micro\"], _ = roc_curve(y2.ravel(), y_score2.ravel())\n",
    "roc_auc2[\"micro\"] = auc(fpr2[\"micro\"], tpr2[\"micro\"])"
   ]
  },
  {
   "cell_type": "code",
   "execution_count": 22,
   "metadata": {
    "scrolled": true
   },
   "outputs": [
    {
     "data": {
      "image/png": "[encoded data removed]",
      "text/plain": [
       "<Figure size 432x288 with 1 Axes>"
      ]
     },
     "metadata": {
      "needs_background": "light"
     },
     "output_type": "display_data"
    }
   ],
   "source": [
    "# Plot the ROC curve\n",
    "plt.plot(fpr1[\"micro\"], tpr1[\"micro\"], color='red', linewidth=2,label = ' Training dataset (area = %0.4f)  '%roc_auc1[\"micro\"])\n",
    "plt.plot(fpr2[\"micro\"], tpr2[\"micro\"], color='blue', linewidth=2,label = ' Independent dataset (area = %0.4f) '%roc_auc2[\"micro\"])\n",
    "plt.plot([0,1],[0,1],color ='black',linewidth = 1.5,linestyle = '-.')\n",
    "plt.xlim([0.0, 1.0])\n",
    "plt.ylim([0.0, 1.05])\n",
    "ax = plt.gca()\n",
    "\n",
    "plt.xlabel(\"1-Specificity\")\n",
    "plt.ylabel(\"Sensitivity\")\n",
    "plt.legend(loc=\"lower right\")\n",
    "plt.show()"
   ]
  },
  {
   "cell_type": "code",
   "execution_count": null,
   "metadata": {},
   "outputs": [],
   "source": []
  }
 ],
 "metadata": {
  "kernelspec": {
   "display_name": "Python 3",
   "language": "python",
   "name": "python3"
  },
  "language_info": {
   "codemirror_mode": {
    "name": "ipython",
    "version": 3
   },
   "file_extension": ".py",
   "mimetype": "text/x-python",
   "name": "python",
   "nbconvert_exporter": "python",
   "pygments_lexer": "ipython3",
   "version": "3.7.4"
  }
 },
 "nbformat": 4,
 "nbformat_minor": 2
}
